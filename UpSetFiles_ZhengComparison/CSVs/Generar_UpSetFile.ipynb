{
 "cells": [
  {
   "cell_type": "code",
   "execution_count": 2,
   "id": "46a664b4",
   "metadata": {},
   "outputs": [],
   "source": [
    "import csv\n",
    "import os\n",
    "import pandas as pd"
   ]
  },
  {
   "cell_type": "markdown",
   "id": "26534bed",
   "metadata": {},
   "source": [
    "## 1. Generación de archivo binario UpSet"
   ]
  },
  {
   "cell_type": "code",
   "execution_count": 3,
   "id": "8a43e514",
   "metadata": {},
   "outputs": [],
   "source": [
    "def generate_UpSetFile(Lists,output_filename,threshold):\n",
    "    \"\"\"\n",
    "    Crea un archivo que UpSet-codifica el contenido de términos funcionales en distintas listas de genes D.E.\n",
    "    \n",
    "    Debe recibir una lista con el nombre de los archivos que resultan de las query en g:Profiler para cada lista de genes D.E. \n",
    "    Tales archivos son csv con el siguiente encabezado:\n",
    "    \n",
    "    [source - term_name - term_id - adjusted_p_value - negative_log10_of_adjusted_p_value - term_size - query_size - intersection_size - effective_domain_size - intersections]     \n",
    "    \n",
    "    Parámetros:\n",
    "    -----------\n",
    "        Lists [string]: arreglo con los nombres de las listas de términos funcionales. Por ejemplo: ['Car_up','Car_down',...]\n",
    "        output_filename (string): nombre del archivo a generar. Por ejemplo: 'UpSetTerminosFuncionales.txt'\n",
    "    \n",
    "    \"\"\"\n",
    "    UpSetDict = {}\n",
    "    \n",
    "    for listID in Lists:\n",
    "        col = {} #Aquí se guardará la relación entre el título de una columna y su número de columna\n",
    "        row_count = 0\n",
    "        with open(listID + '_CSV.txt') as actual_list:\n",
    "            csv_reader = csv.reader(actual_list, delimiter=',')\n",
    "            for row in csv_reader:\n",
    "                \n",
    "                if row_count == 0: #Encabezado\n",
    "                    for i in range(0,len(row)): #Guardamos la relación entre el título de una columna y su número de columna\n",
    "                        col[row[i]]=i\n",
    "                        \n",
    "                else: #Entradas\n",
    "                    termID = row[col['term_id']]\n",
    "                    if not termID in UpSetDict: #(Si el término termID no está como llave en el diccionario)\n",
    "                        \n",
    "                        #Inicializaciones\n",
    "                        UpSetDict[termID]={}\n",
    "                        UpSetDict[termID]['term_name']=row[col['term_name']]\n",
    "                        UpSetDict[termID]['term_source']=row[col['source']]\n",
    "                        for listID_aux in Lists: \n",
    "                            UpSetDict[termID][listID_aux] = 0 #inicializamos todas las pertenencias en 0\n",
    "                            UpSetDict[termID][listID_aux + '_adj_pvalue'] = 1 #inicializamos los adjusted pvalue en 1\n",
    "                            \n",
    "                        #Determinacion de pertenencia y adj-pvalue\n",
    "                        if float(row[col['adjusted_p_value']])<threshold: #restriccion sobre el adjusted p-value para que la lista invoque al termino\n",
    "                            UpSetDict[termID][listID] = 1\n",
    "                        UpSetDict[termID][listID + '_adj_pvalue'] = row[col['adjusted_p_value']]\n",
    "                        \n",
    "                    else: #(Si el termino termID ya fue agregado)\n",
    "                        if float(row[col['adjusted_p_value']])<threshold:\n",
    "                            UpSetDict[termID][listID] = 1\n",
    "                        UpSetDict[termID][listID + '_adj_pvalue'] = row[col['adjusted_p_value']]\n",
    "                row_count+=1\n",
    "        \n",
    "        with open(output_filename,'w') as f:\n",
    "            csv_writer = csv.writer(f,delimiter='\\t')\n",
    "            \n",
    "            #Escribir el encabezado\n",
    "            header_line = ['term_id','term_name','term_source']\n",
    "            for listID in Lists:\n",
    "                header_line.append(listID)\n",
    "            for listID in Lists:\n",
    "                header_line.append(listID+'_adj_pvalue')\n",
    "            csv_writer.writerow(header_line)\n",
    "            \n",
    "            for termID in UpSetDict:\n",
    "                new_line = [termID]\n",
    "                for field in header_line:\n",
    "                    if field!='term_id':\n",
    "                        new_line.append(UpSetDict[termID][field])\n",
    "                csv_writer.writerow(new_line)"
   ]
  },
  {
   "cell_type": "code",
   "execution_count": 6,
   "id": "a764315c",
   "metadata": {},
   "outputs": [],
   "source": [
    "listIDs = ['He_down','He_up','Lind_down','Lind_up','Car(Aae)_down','Car(Aae)_up','Bai_F_abd_down','Bai_F_abd_up','Bai_F_head_down','Bai_F_head_up','Bai_M_abd_down','Bai_M_abd_up','Bai_M_head_down','Bai_M_head_up']\n",
    "output_filename = 'Terms_UpSetFile.txt'\n",
    "generate_UpSetFile(listIDs,output_filename,0.25)"
   ]
  },
  {
   "cell_type": "code",
   "execution_count": null,
   "id": "b0e0d9bb",
   "metadata": {},
   "outputs": [],
   "source": []
  }
 ],
 "metadata": {
  "kernelspec": {
   "display_name": "Python 3",
   "language": "python",
   "name": "python3"
  },
  "language_info": {
   "codemirror_mode": {
    "name": "ipython",
    "version": 3
   },
   "file_extension": ".py",
   "mimetype": "text/x-python",
   "name": "python",
   "nbconvert_exporter": "python",
   "pygments_lexer": "ipython3",
   "version": "3.8.8"
  }
 },
 "nbformat": 4,
 "nbformat_minor": 5
}
