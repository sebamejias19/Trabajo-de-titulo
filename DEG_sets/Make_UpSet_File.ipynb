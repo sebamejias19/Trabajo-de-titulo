{
 "cells": [
  {
   "cell_type": "code",
   "execution_count": 7,
   "id": "7af73e65",
   "metadata": {},
   "outputs": [],
   "source": [
    "#Importar paquetes\n",
    "import csv\n",
    "import os\n",
    "import pandas as pd\n",
    "import numpy as np"
   ]
  },
  {
   "cell_type": "code",
   "execution_count": 25,
   "id": "aeec020d",
   "metadata": {},
   "outputs": [],
   "source": [
    "#Crea el archivo UpSet codificando pertenencia de genes a conjuntos\n",
    "\n",
    "set_titles = ['Af_F_wh',\n",
    "              'Dm_F_ov',\n",
    "              'Dp_F_ab',\n",
    "              'Dp_F_hd',\n",
    "              'Dp_M_ab',\n",
    "              'Dp_M_hd',\n",
    "              'Dm_F_wh_L',\n",
    "              'Dm_F_wh_D',\n",
    "              'Dm_M_ts']\n",
    "\n",
    "def make_upset_file(set_titles,output_filename):\n",
    "    \n",
    "    gene_belonging_dict = {} # Ejemplo: {\"cg13029\":[0,1,0,0,1,0,...] , \"lsp1beta\":[1,0,0,1,0,...] , ...}\n",
    "    number_of_sets = len(set_titles)\n",
    "    set_count = 0\n",
    "    output_header = [\"name\"]\n",
    "    \n",
    "    for i in range(0,number_of_sets):\n",
    "        \n",
    "        set_title = set_titles[i]\n",
    "        output_header.append(set_title) #Completamos el encabezado del archivo de salida\n",
    "        \n",
    "        with open(set_title + '.csv') as actual_set:\n",
    "            set_csv = csv.reader(actual_set, delimiter=',')\n",
    "            header_dict = {} # Ejemplo: {\"enrichment_ID\" : 0, \"name\" : 1, \"log2fc\" : 2}\n",
    "            row_count = 0 \n",
    "        \n",
    "            for row in set_csv:\n",
    "                if row_count == 0: #Si es la fila header\n",
    "                    for j in range(0,len(row)):\n",
    "                        header_dict[row[j]] = j\n",
    "                    row_count += 1\n",
    "                \n",
    "                else: #Si estamos en el cuerpo del archivo\n",
    "                    gene = row[header_dict['name']] #extraemos el nombre del gen actual\n",
    "                \n",
    "                    if not gene in gene_belonging_dict:\n",
    "                        gene_belonging_dict[gene] = np.zeros(number_of_sets)\n",
    "                \n",
    "                    gene_belonging_dict[gene][set_count] = 1\n",
    "                    row_count += 1\n",
    "                    \n",
    "        set_count +=1\n",
    "        \n",
    "    with open(output_filename,'w',newline='') as f:\n",
    "        csv_writer = csv.writer(f,delimiter='\\t')\n",
    "        csv_writer.writerow(output_header) #Escribir el encabezado\n",
    "        \n",
    "        for gene in gene_belonging_dict:\n",
    "            new_row = [gene]\n",
    "            binary_vector = gene_belonging_dict[gene]\n",
    "            for k in range(0,len(binary_vector)):\n",
    "                new_row.append(int(binary_vector[k]))          \n",
    "            csv_writer.writerow(new_row)"
   ]
  },
  {
   "cell_type": "code",
   "execution_count": 26,
   "id": "dc4c5c44",
   "metadata": {},
   "outputs": [],
   "source": [
    "make_upset_file(set_titles,'upset_binary.txt')"
   ]
  },
  {
   "cell_type": "code",
   "execution_count": 18,
   "id": "c8dc01e1",
   "metadata": {},
   "outputs": [
    {
     "name": "stdout",
     "output_type": "stream",
     "text": [
      "['1']\n"
     ]
    }
   ],
   "source": []
  },
  {
   "cell_type": "code",
   "execution_count": null,
   "id": "29126e47",
   "metadata": {},
   "outputs": [],
   "source": []
  }
 ],
 "metadata": {
  "kernelspec": {
   "display_name": "Python 3",
   "language": "python",
   "name": "python3"
  },
  "language_info": {
   "codemirror_mode": {
    "name": "ipython",
    "version": 3
   },
   "file_extension": ".py",
   "mimetype": "text/x-python",
   "name": "python",
   "nbconvert_exporter": "python",
   "pygments_lexer": "ipython3",
   "version": "3.8.8"
  }
 },
 "nbformat": 4,
 "nbformat_minor": 5
}
