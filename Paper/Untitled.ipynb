{
 "cells": [
  {
   "cell_type": "markdown",
   "id": "a341af75",
   "metadata": {},
   "source": [
    "Prepara un archivo UpSet que indica la pertenencia de genes a cada conjunto D.E."
   ]
  },
  {
   "cell_type": "code",
   "execution_count": 1,
   "id": "2d9d90e3",
   "metadata": {},
   "outputs": [],
   "source": [
    "import csv\n",
    "import os\n",
    "import pandas as pd\n"
   ]
  },
  {
   "cell_type": "code",
   "execution_count": 4,
   "id": "0b76d064",
   "metadata": {},
   "outputs": [],
   "source": [
    "def prepare_UpSet_File(expression_file,output_filename):\n",
    "    #Recibe el expressionFile con estructura:\n",
    "    #name     Lind_up     Lind_down     He_up  ...\n",
    "    #CG13029  4,31        0             0\n",
    "    \n",
    "    header = ['gene',\n",
    "              'Dm_f(L21)',\n",
    "              'Dm_f_ovary(H19)',\n",
    "              'Dp_f_abd(B19)',\n",
    "              'Dp_f_head(B19)',\n",
    "              'Dp_m_abd(B19)',\n",
    "              'Dp_m_head(B19)',\n",
    "              'Dm_f(D21)',\n",
    "              'Af_f(C17)']\n",
    "    \n",
    "    gene_inclussion = {} #Ejemplo: {'CG1443': [0,1,1,1,0,0,0,1] , ...}\n",
    "    sets = len(header) - 1  #Serían 8 en este caso\n",
    "    row_count = 0\n",
    "    \n",
    "    with open(expression_file) as exp_file:\n",
    "        csv_reader = csv.reader(exp_file, delimiter='\\t')\n",
    "        \n",
    "        for row in csv_reader:\n",
    "            \n",
    "            if row_count == 0: #Estamos leyendo el encabezado\n",
    "                row_count+=1 #No hacemos nada\n",
    "            \n",
    "            else: \n",
    "                gene = row[0]\n",
    "                gene_inclussion[gene]=['0']*sets\n",
    "                for i in range(0, sets):\n",
    "                    if row[2*i+1]!='0' or row[2*i+2]!='0':\n",
    "                        gene_inclussion[gene][i]='1'\n",
    "                row_count+=1\n",
    "                \n",
    "        with open(output_filename, 'w', newline='') as f:\n",
    "            csv_writer = csv.writer(f,delimiter=';')\n",
    "            csv_writer.writerow(header)\n",
    "            for key in gene_inclussion:\n",
    "                new_line = [key] + gene_inclussion[key]\n",
    "                csv_writer.writerow(new_line)\n",
    "                    \n",
    "    \n",
    "    "
   ]
  },
  {
   "cell_type": "code",
   "execution_count": 5,
   "id": "7de80a39",
   "metadata": {},
   "outputs": [],
   "source": [
    "prepare_UpSet_File('expression_file.txt','UpSetFile')"
   ]
  },
  {
   "cell_type": "code",
   "execution_count": null,
   "id": "dc0dc7c3",
   "metadata": {},
   "outputs": [],
   "source": []
  }
 ],
 "metadata": {
  "kernelspec": {
   "display_name": "Python 3",
   "language": "python",
   "name": "python3"
  },
  "language_info": {
   "codemirror_mode": {
    "name": "ipython",
    "version": 3
   },
   "file_extension": ".py",
   "mimetype": "text/x-python",
   "name": "python",
   "nbconvert_exporter": "python",
   "pygments_lexer": "ipython3",
   "version": "3.8.8"
  }
 },
 "nbformat": 4,
 "nbformat_minor": 5
}
