{
 "cells": [
  {
   "cell_type": "code",
   "execution_count": 12,
   "id": "4b904787",
   "metadata": {},
   "outputs": [],
   "source": [
    "import csv\n",
    "import os\n",
    "import pandas as pd\n",
    "import requests"
   ]
  },
  {
   "cell_type": "code",
   "execution_count": 13,
   "id": "94bc9283",
   "metadata": {},
   "outputs": [],
   "source": [
    "def prepare_multiquery_dict(List_names):\n",
    "    \"\"\"\n",
    "    Prepara un diccionario cuyas llaves son los nombres de las listas de IDs, y cuyos valores son las listas de IDs de elementos,\n",
    "    como en el siguiente ejemplo: multiquery_dict = { queryname1:[\"ID11\",\"ID12\",...], queryname2:[\"ID21\",\"ID22\",...], ... }. \n",
    "    Recibe una lista con los nombres de las listas de IDs (las cuales tienen un ID en cada línea, la primera línea con un \n",
    "    identificador de lista tipo FASTA).\n",
    "    \n",
    "    Parámetros:\n",
    "    -----------\n",
    "        List_names ([string]): Lista de nombres de las listas con IDs.\n",
    "        \n",
    "    Salida:\n",
    "    -------\n",
    "        multiquery_dict ({string:[string]}): Diccionario que relaciona nombre de listas con las listas de IDs.\n",
    "    \n",
    "    \"\"\"\n",
    "    multiquery_dict = {}\n",
    "    for list_name in List_names:\n",
    "        row_count = 0\n",
    "        with open(list_name + '.txt') as actual_list:\n",
    "            csv_reader = csv.reader(actual_list, delimiter='\\t')\n",
    "            for row in csv_reader:\n",
    "                if row_count == 0: #Primera línea, identificador de lista\n",
    "                    multiquery_dict[list_name] = []\n",
    "                    row_count+=1\n",
    "                    print(row)\n",
    "                else:\n",
    "                    multiquery_dict[list_name].append(row[0])\n",
    "                    row_count+=1\n",
    "    return multiquery_dict"
   ]
  },
  {
   "cell_type": "code",
   "execution_count": 14,
   "id": "751cefc4",
   "metadata": {},
   "outputs": [
    {
     "name": "stdout",
     "output_type": "stream",
     "text": [
      "['>Lind_up']\n",
      "['>Lind_down']\n",
      "['>He_up']\n",
      "['>He_down']\n",
      "['>Car(Dmel)_up']\n",
      "['>Car(Dmel)_down']\n",
      "['>Bai_F_abd_up']\n",
      "['>Bai_F_abd_down']\n",
      "['>Bai_F_head_up']\n",
      "['>Bai_F_head_down']\n",
      "['>Bai_M_abd_up']\n",
      "['>Bai_M_abd_down']\n",
      "['>Bai_M_head_up']\n",
      "['>Bai_M_head_down']\n"
     ]
    }
   ],
   "source": [
    "List_names = [\"Lind_up\",\"Lind_down\",\"He_up\",\"He_down\",\"Car(Dmel)_up\",\"Car(Dmel)_down\",\"Bai_F_abd_up\",\"Bai_F_abd_down\",\"Bai_F_head_up\",\"Bai_F_head_down\",\"Bai_M_abd_up\",\"Bai_M_abd_down\",\"Bai_M_head_up\",\"Bai_M_head_down\"]\n",
    "multiquery_dict = prepare_multiquery_dict(List_names)"
   ]
  },
  {
   "cell_type": "code",
   "execution_count": 15,
   "id": "033cb688",
   "metadata": {},
   "outputs": [],
   "source": [
    "def multiquery(multiquery_dict,organism,ordered,significance_threshold_method,user_threshold):\n",
    "    \"\"\"\n",
    "    Realiza análisis de enriquecimiento de términos funcionales sobre múltiples listas de elementos D.E., mediante una\n",
    "    consulta en g:GOSt vía la API de g:Profiler.\n",
    "    \n",
    "    Parámetros:\n",
    "    -----------\n",
    "        multiquery_dict ({string:[string]}): Diccionario que relaciona nombre de listas con las listas de IDs.\n",
    "        organism (string): Identificador del organismo de referencia (por ejemplo, 'dmelanogaster' para D. melanogaster)\n",
    "        ordered (boolean): Indica si las consultas se tratan como listas ordenadas.\n",
    "        significance_threshold_method (string): Método de corrección por testeo múltiple usado sobre los p-values (por ejemplo, 'fdr' para método Bonferroni-Hochberg FDR)\n",
    "        user_threshold (float): Valor de corte para los p-value ajustados.\n",
    "    \n",
    "    Salida:\n",
    "    -------\n",
    "        r.json()['result'] (List): Resultado del análisis en g:GOSt para todas las listas.\n",
    "    \n",
    "    \"\"\"\n",
    "    r = requests.post(\n",
    "        url='https://biit.cs.ut.ee/gprofiler/api/gost/profile/',\n",
    "        json={\n",
    "        'organism':organism,\n",
    "        'query':multiquery_dict,\n",
    "        'combined':True,\n",
    "        'sources' :[], #All terms.\n",
    "        'ordered':ordered,\n",
    "        'user_threshold':user_threshold,\n",
    "        'significance_threshold_method':significance_threshold_method, #Usar corrección benjamini-hochberg FDR en lugar del default 'g_SCS'.\n",
    "        'domain_scope':'annotated',#Usar genes anotados en D.mel como conjunto de genes de fondo\n",
    "        },\n",
    "        headers={\n",
    "        'User-Agent':'FullPythonRequest'\n",
    "        }\n",
    "    )\n",
    "    multiquery_result = r.json()['result']\n",
    "    return multiquery_result"
   ]
  },
  {
   "cell_type": "code",
   "execution_count": 16,
   "id": "128e0aec",
   "metadata": {},
   "outputs": [],
   "source": [
    "multiquery_result = multiquery(multiquery_dict,'dmelanogaster',True,'fdr',0.20)"
   ]
  },
  {
   "cell_type": "code",
   "execution_count": 17,
   "id": "30e69168",
   "metadata": {},
   "outputs": [],
   "source": [
    "def UpSetFile_from_multiqueryResult(List_names,multiquery_result,significance_threshold,output_filename):\n",
    "    \"\"\"\n",
    "    Importante: List_names debe ser la misma lista de nombres de listas que se usó en el multiquery\n",
    "    \n",
    "    Parámetros:\n",
    "    -----------\n",
    "    \n",
    "    Salida:\n",
    "    -------\n",
    "    \n",
    "    \"\"\"\n",
    "    #Preparación del encabezado\n",
    "    header = ['term_id','term_name','term_source','term_size']\n",
    "    \n",
    "    for list_name in List_names:\n",
    "        header.append(list_name)\n",
    "        \n",
    "    for list_name in List_names:\n",
    "        header.append(list_name + '_adjpv')\n",
    "        header.append(list_name + '_int_size')\n",
    "        \n",
    "    #Crear archivo    \n",
    "    with open(output_filename,'w') as f:\n",
    "        csv_writer = csv.writer(f,delimiter='\\t')\n",
    "        csv_writer.writerow(header)\n",
    "    \n",
    "        for term_dict in multiquery_result:\n",
    "        \n",
    "            term_id = term_dict['native']\n",
    "            term_name = term_dict['name']\n",
    "            term_source = term_dict['source']\n",
    "            term_size = term_dict['term_size']\n",
    "            new_row = [term_id,term_name,term_source,term_size]\n",
    "            p_values = term_dict['p_values']\n",
    "            intersection_sizes = term_dict['intersection_sizes']\n",
    "        \n",
    "            for adjpv in p_values:\n",
    "                if adjpv<=significance_threshold:\n",
    "                    new_row.append(1)\n",
    "                else:\n",
    "                    new_row.append(0)\n",
    "            \n",
    "            for i in range(0,len(p_values)):\n",
    "                new_row.append(p_values[i])\n",
    "                new_row.append(intersection_sizes[i])\n",
    "                \n",
    "            csv_writer.writerow(new_row)"
   ]
  },
  {
   "cell_type": "code",
   "execution_count": 19,
   "id": "55f8a66c",
   "metadata": {},
   "outputs": [],
   "source": [
    "UpSetFile_from_multiqueryResult(List_names,multiquery_result,0.20,'UpSetFile.txt')"
   ]
  },
  {
   "cell_type": "code",
   "execution_count": null,
   "id": "9450d2da",
   "metadata": {},
   "outputs": [],
   "source": []
  }
 ],
 "metadata": {
  "kernelspec": {
   "display_name": "Python 3",
   "language": "python",
   "name": "python3"
  },
  "language_info": {
   "codemirror_mode": {
    "name": "ipython",
    "version": 3
   },
   "file_extension": ".py",
   "mimetype": "text/x-python",
   "name": "python",
   "nbconvert_exporter": "python",
   "pygments_lexer": "ipython3",
   "version": "3.8.8"
  }
 },
 "nbformat": 4,
 "nbformat_minor": 5
}
